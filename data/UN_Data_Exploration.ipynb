{
 "cells": [
  {
   "cell_type": "markdown",
   "id": "75784b6a-249d-4fef-b9cb-203182b75901",
   "metadata": {},
   "source": [
    "## **UN Data Exploration Practice**\n",
    "\n"
   ]
  },
  {
   "cell_type": "markdown",
   "id": "e0dd8beb-ebba-4a5c-942c-943c95e5bfc0",
   "metadata": {},
   "source": [
    "1. This project provided an opportunity to practice some exploratory analysis on two country-level metrics, gross domestic product (GDP) per capita and overall life expectancy. After downloading a dataset named Gross Domestic Product (GDP) per capita dataset from http://data.un.org/Data.aspx?d=WDI&f=Indicator_Code%3aNY.GDP.PCAP.PP.KD. Rename it to gdp_per_capita.csv and place it in the data folder of your project repository."
   ]
  },
  {
   "cell_type": "markdown",
   "id": "27952aa3-9960-4e68-b1f4-27a85a225faa",
   "metadata": {},
   "source": [
    "2. Create a Jupyter Notebook in the notebooks folder and name it UN_Data_Exploration."
   ]
  },
  {
   "cell_type": "markdown",
   "id": "b53f7ef9-b1a6-4f04-bb2a-0f9384b30932",
   "metadata": {},
   "source": [
    "3. import the required packages with their customary aliases as follows:"
   ]
  },
  {
   "cell_type": "code",
   "execution_count": 5,
   "id": "5fec3995-92dc-4f9a-b7f0-32b26aed2319",
   "metadata": {},
   "outputs": [],
   "source": [
    "import pandas as pd\n",
    "import numpy as np\n",
    "import matplotlib.pyplot as plt\n",
    "import seaborn as sns"
   ]
  },
  {
   "cell_type": "markdown",
   "id": "8c03f23f-9bf1-4c84-b852-eec05d234bc1",
   "metadata": {},
   "source": [
    "4. create a DataFrame called **gdp_df** from a CSV file named **gdp_per_capita.csv** by using the panda read_csv(). This file was downloaded from [UN data A wordl of information website] (http://data.un.org/Data.aspx?d=WDI&f=Indicator_Code%3aNY.GDP.PCAP.PP.KD) as the Gross Domestic Product (GDP) per capita dataset, renamed it to the gdp_per_capita.csv and saved in the data folder of my project repository."
   ]
  },
  {
   "cell_type": "code",
   "execution_count": 7,
   "id": "cb6f7754-cc98-4e02-b864-e349ef77fd6c",
   "metadata": {},
   "outputs": [],
   "source": [
    "\n",
    "gdp_df = pd.read_csv('gdp_per_capita.csv.csv')\n"
   ]
  },
  {
   "cell_type": "markdown",
   "id": "35554a18-ead8-476b-a57d-ae974605d82a",
   "metadata": {},
   "source": [
    "#inspect data in the firt 10 rows"
   ]
  },
  {
   "cell_type": "code",
   "execution_count": 9,
   "id": "07acf1e2-9189-46ae-b9ec-481424e761c6",
   "metadata": {},
   "outputs": [
    {
     "data": {
      "text/html": [
       "<div>\n",
       "<style scoped>\n",
       "    .dataframe tbody tr th:only-of-type {\n",
       "        vertical-align: middle;\n",
       "    }\n",
       "\n",
       "    .dataframe tbody tr th {\n",
       "        vertical-align: top;\n",
       "    }\n",
       "\n",
       "    .dataframe thead th {\n",
       "        text-align: right;\n",
       "    }\n",
       "</style>\n",
       "<table border=\"1\" class=\"dataframe\">\n",
       "  <thead>\n",
       "    <tr style=\"text-align: right;\">\n",
       "      <th></th>\n",
       "      <th>Country or Area</th>\n",
       "      <th>Year</th>\n",
       "      <th>Value</th>\n",
       "      <th>Value Footnotes</th>\n",
       "    </tr>\n",
       "  </thead>\n",
       "  <tbody>\n",
       "    <tr>\n",
       "      <th>0</th>\n",
       "      <td>Afghanistan</td>\n",
       "      <td>2021</td>\n",
       "      <td>1517.016266</td>\n",
       "      <td>NaN</td>\n",
       "    </tr>\n",
       "    <tr>\n",
       "      <th>1</th>\n",
       "      <td>Afghanistan</td>\n",
       "      <td>2020</td>\n",
       "      <td>1968.341002</td>\n",
       "      <td>NaN</td>\n",
       "    </tr>\n",
       "    <tr>\n",
       "      <th>2</th>\n",
       "      <td>Afghanistan</td>\n",
       "      <td>2019</td>\n",
       "      <td>2079.921861</td>\n",
       "      <td>NaN</td>\n",
       "    </tr>\n",
       "    <tr>\n",
       "      <th>3</th>\n",
       "      <td>Afghanistan</td>\n",
       "      <td>2018</td>\n",
       "      <td>2060.698973</td>\n",
       "      <td>NaN</td>\n",
       "    </tr>\n",
       "    <tr>\n",
       "      <th>4</th>\n",
       "      <td>Afghanistan</td>\n",
       "      <td>2017</td>\n",
       "      <td>2096.093111</td>\n",
       "      <td>NaN</td>\n",
       "    </tr>\n",
       "    <tr>\n",
       "      <th>5</th>\n",
       "      <td>Afghanistan</td>\n",
       "      <td>2016</td>\n",
       "      <td>2101.422187</td>\n",
       "      <td>NaN</td>\n",
       "    </tr>\n",
       "    <tr>\n",
       "      <th>6</th>\n",
       "      <td>Afghanistan</td>\n",
       "      <td>2015</td>\n",
       "      <td>2108.714173</td>\n",
       "      <td>NaN</td>\n",
       "    </tr>\n",
       "    <tr>\n",
       "      <th>7</th>\n",
       "      <td>Afghanistan</td>\n",
       "      <td>2014</td>\n",
       "      <td>2144.449634</td>\n",
       "      <td>NaN</td>\n",
       "    </tr>\n",
       "    <tr>\n",
       "      <th>8</th>\n",
       "      <td>Afghanistan</td>\n",
       "      <td>2013</td>\n",
       "      <td>2165.340915</td>\n",
       "      <td>NaN</td>\n",
       "    </tr>\n",
       "    <tr>\n",
       "      <th>9</th>\n",
       "      <td>Afghanistan</td>\n",
       "      <td>2012</td>\n",
       "      <td>2122.830759</td>\n",
       "      <td>NaN</td>\n",
       "    </tr>\n",
       "  </tbody>\n",
       "</table>\n",
       "</div>"
      ],
      "text/plain": [
       "  Country or Area  Year        Value  Value Footnotes\n",
       "0     Afghanistan  2021  1517.016266              NaN\n",
       "1     Afghanistan  2020  1968.341002              NaN\n",
       "2     Afghanistan  2019  2079.921861              NaN\n",
       "3     Afghanistan  2018  2060.698973              NaN\n",
       "4     Afghanistan  2017  2096.093111              NaN\n",
       "5     Afghanistan  2016  2101.422187              NaN\n",
       "6     Afghanistan  2015  2108.714173              NaN\n",
       "7     Afghanistan  2014  2144.449634              NaN\n",
       "8     Afghanistan  2013  2165.340915              NaN\n",
       "9     Afghanistan  2012  2122.830759              NaN"
      ]
     },
     "execution_count": 9,
     "metadata": {},
     "output_type": "execute_result"
    }
   ],
   "source": [
    "gdp_df.head(10)\n"
   ]
  },
  {
   "cell_type": "markdown",
   "id": "cf532679-ba99-4164-b893-24b968e1aad9",
   "metadata": {},
   "source": [
    "#inspect data in the last 10 rows"
   ]
  },
  {
   "cell_type": "code",
   "execution_count": 11,
   "id": "8cc931e7-0929-465d-b78d-9cebbddde628",
   "metadata": {},
   "outputs": [
    {
     "data": {
      "text/html": [
       "<div>\n",
       "<style scoped>\n",
       "    .dataframe tbody tr th:only-of-type {\n",
       "        vertical-align: middle;\n",
       "    }\n",
       "\n",
       "    .dataframe tbody tr th {\n",
       "        vertical-align: top;\n",
       "    }\n",
       "\n",
       "    .dataframe thead th {\n",
       "        text-align: right;\n",
       "    }\n",
       "</style>\n",
       "<table border=\"1\" class=\"dataframe\">\n",
       "  <thead>\n",
       "    <tr style=\"text-align: right;\">\n",
       "      <th></th>\n",
       "      <th>Country or Area</th>\n",
       "      <th>Year</th>\n",
       "      <th>Value</th>\n",
       "      <th>Value Footnotes</th>\n",
       "    </tr>\n",
       "  </thead>\n",
       "  <tbody>\n",
       "    <tr>\n",
       "      <th>7652</th>\n",
       "      <td>Zimbabwe</td>\n",
       "      <td>1999</td>\n",
       "      <td>2866.032886</td>\n",
       "      <td>NaN</td>\n",
       "    </tr>\n",
       "    <tr>\n",
       "      <th>7653</th>\n",
       "      <td>Zimbabwe</td>\n",
       "      <td>1998</td>\n",
       "      <td>2931.725144</td>\n",
       "      <td>NaN</td>\n",
       "    </tr>\n",
       "    <tr>\n",
       "      <th>7654</th>\n",
       "      <td>Zimbabwe</td>\n",
       "      <td>1997</td>\n",
       "      <td>2896.147308</td>\n",
       "      <td>NaN</td>\n",
       "    </tr>\n",
       "    <tr>\n",
       "      <th>7655</th>\n",
       "      <td>Zimbabwe</td>\n",
       "      <td>1996</td>\n",
       "      <td>2867.026043</td>\n",
       "      <td>NaN</td>\n",
       "    </tr>\n",
       "    <tr>\n",
       "      <th>7656</th>\n",
       "      <td>Zimbabwe</td>\n",
       "      <td>1995</td>\n",
       "      <td>2641.378271</td>\n",
       "      <td>NaN</td>\n",
       "    </tr>\n",
       "    <tr>\n",
       "      <th>7657</th>\n",
       "      <td>Zimbabwe</td>\n",
       "      <td>1994</td>\n",
       "      <td>2670.106615</td>\n",
       "      <td>NaN</td>\n",
       "    </tr>\n",
       "    <tr>\n",
       "      <th>7658</th>\n",
       "      <td>Zimbabwe</td>\n",
       "      <td>1993</td>\n",
       "      <td>2458.783255</td>\n",
       "      <td>NaN</td>\n",
       "    </tr>\n",
       "    <tr>\n",
       "      <th>7659</th>\n",
       "      <td>Zimbabwe</td>\n",
       "      <td>1992</td>\n",
       "      <td>2468.278257</td>\n",
       "      <td>NaN</td>\n",
       "    </tr>\n",
       "    <tr>\n",
       "      <th>7660</th>\n",
       "      <td>Zimbabwe</td>\n",
       "      <td>1991</td>\n",
       "      <td>2781.787843</td>\n",
       "      <td>NaN</td>\n",
       "    </tr>\n",
       "    <tr>\n",
       "      <th>7661</th>\n",
       "      <td>Zimbabwe</td>\n",
       "      <td>1990</td>\n",
       "      <td>2704.757299</td>\n",
       "      <td>NaN</td>\n",
       "    </tr>\n",
       "  </tbody>\n",
       "</table>\n",
       "</div>"
      ],
      "text/plain": [
       "     Country or Area  Year        Value  Value Footnotes\n",
       "7652        Zimbabwe  1999  2866.032886              NaN\n",
       "7653        Zimbabwe  1998  2931.725144              NaN\n",
       "7654        Zimbabwe  1997  2896.147308              NaN\n",
       "7655        Zimbabwe  1996  2867.026043              NaN\n",
       "7656        Zimbabwe  1995  2641.378271              NaN\n",
       "7657        Zimbabwe  1994  2670.106615              NaN\n",
       "7658        Zimbabwe  1993  2458.783255              NaN\n",
       "7659        Zimbabwe  1992  2468.278257              NaN\n",
       "7660        Zimbabwe  1991  2781.787843              NaN\n",
       "7661        Zimbabwe  1990  2704.757299              NaN"
      ]
     },
     "execution_count": 11,
     "metadata": {},
     "output_type": "execute_result"
    }
   ],
   "source": [
    "gdp_df.tail(10)"
   ]
  },
  {
   "cell_type": "markdown",
   "id": "de5f9a12-e726-4d82-ac59-6b3f90e67f7d",
   "metadata": {},
   "source": [
    "5. remove column named \"Value Footnotes\" "
   ]
  },
  {
   "cell_type": "code",
   "execution_count": 13,
   "id": "4637d3b3-4531-4425-b42d-d5117342c74c",
   "metadata": {},
   "outputs": [],
   "source": [
    "gdp_df.drop(columns = ['Value Footnotes'], inplace=True)"
   ]
  },
  {
   "cell_type": "markdown",
   "id": "dfc97483-1997-40cd-a94e-f4c11fec2139",
   "metadata": {},
   "source": [
    "rename the remaining columns to 'Country', 'Year', and 'GDP_Per_Capita'."
   ]
  },
  {
   "cell_type": "code",
   "execution_count": 15,
   "id": "b67e08dd-9be9-49d6-8bf1-62ed694a60ed",
   "metadata": {},
   "outputs": [],
   "source": [
    "dict = {'Country or Area':'Country', 'Year':'Year', 'Value':'GDP_Per_Capita'}"
   ]
  },
  {
   "cell_type": "code",
   "execution_count": 16,
   "id": "2ec0f680-7c7b-4fbd-bd48-9b2b833186ee",
   "metadata": {},
   "outputs": [],
   "source": [
    "gdp_df.rename(columns=dict, inplace=True)"
   ]
  },
  {
   "cell_type": "markdown",
   "id": "45f4f7a5-65af-494b-b180-2b862e8ac791",
   "metadata": {},
   "source": [
    "6. check rows and columns of gdp_df DataFrame"
   ]
  },
  {
   "cell_type": "code",
   "execution_count": 18,
   "id": "b9ed2018-a2a3-4fff-a8db-57f219f36965",
   "metadata": {},
   "outputs": [
    {
     "name": "stdout",
     "output_type": "stream",
     "text": [
      "(7662, 3)\n"
     ]
    }
   ],
   "source": [
    "print(gdp_df.shape)"
   ]
  },
  {
   "cell_type": "markdown",
   "id": "61c455cf-46b0-4665-8982-dae34212a05a",
   "metadata": {},
   "source": [
    "gdp_df DataFrame has 7662 rows and 3 columns"
   ]
  },
  {
   "cell_type": "markdown",
   "id": "ac29da41-94b0-4b8b-978d-1fb859cea1db",
   "metadata": {},
   "source": [
    "check the data types of its columns"
   ]
  },
  {
   "cell_type": "code",
   "execution_count": 21,
   "id": "b1c5ce58-fb90-44d7-a280-e6be91dd10f2",
   "metadata": {},
   "outputs": [
    {
     "name": "stdout",
     "output_type": "stream",
     "text": [
      "<class 'pandas.core.frame.DataFrame'>\n",
      "RangeIndex: 7662 entries, 0 to 7661\n",
      "Data columns (total 3 columns):\n",
      " #   Column          Non-Null Count  Dtype  \n",
      "---  ------          --------------  -----  \n",
      " 0   Country         7662 non-null   object \n",
      " 1   Year            7662 non-null   int64  \n",
      " 2   GDP_Per_Capita  7662 non-null   float64\n",
      "dtypes: float64(1), int64(1), object(1)\n",
      "memory usage: 179.7+ KB\n",
      "None\n"
     ]
    }
   ],
   "source": [
    "print(gdp_df.info())"
   ]
  },
  {
   "cell_type": "markdown",
   "id": "1151d889-72b5-4fb6-8727-b4653ffd6060",
   "metadata": {},
   "source": [
    "gdp_df DataFrame has 3 columns including Country as object type, Year as int64 and GDP_Per_Capita as float64 data type. "
   ]
  },
  {
   "cell_type": "markdown",
   "id": "0d9c23a1-d8b2-4444-accf-50ec3ab71d25",
   "metadata": {},
   "source": [
    "7. check range of year and the number of observations per year in this dataset "
   ]
  },
  {
   "cell_type": "code",
   "execution_count": 24,
   "id": "17664a85-d505-40c9-bb31-a155a54bdad8",
   "metadata": {},
   "outputs": [
    {
     "data": {
      "text/html": [
       "<div>\n",
       "<style scoped>\n",
       "    .dataframe tbody tr th:only-of-type {\n",
       "        vertical-align: middle;\n",
       "    }\n",
       "\n",
       "    .dataframe tbody tr th {\n",
       "        vertical-align: top;\n",
       "    }\n",
       "\n",
       "    .dataframe thead th {\n",
       "        text-align: right;\n",
       "    }\n",
       "</style>\n",
       "<table border=\"1\" class=\"dataframe\">\n",
       "  <thead>\n",
       "    <tr style=\"text-align: right;\">\n",
       "      <th></th>\n",
       "      <th>Country</th>\n",
       "      <th>GDP_Per_Capita</th>\n",
       "    </tr>\n",
       "    <tr>\n",
       "      <th>Year</th>\n",
       "      <th></th>\n",
       "      <th></th>\n",
       "    </tr>\n",
       "  </thead>\n",
       "  <tbody>\n",
       "    <tr>\n",
       "      <th>1990</th>\n",
       "      <td>207</td>\n",
       "      <td>207</td>\n",
       "    </tr>\n",
       "    <tr>\n",
       "      <th>1991</th>\n",
       "      <td>208</td>\n",
       "      <td>208</td>\n",
       "    </tr>\n",
       "    <tr>\n",
       "      <th>1992</th>\n",
       "      <td>210</td>\n",
       "      <td>210</td>\n",
       "    </tr>\n",
       "    <tr>\n",
       "      <th>1993</th>\n",
       "      <td>211</td>\n",
       "      <td>211</td>\n",
       "    </tr>\n",
       "    <tr>\n",
       "      <th>1994</th>\n",
       "      <td>213</td>\n",
       "      <td>213</td>\n",
       "    </tr>\n",
       "    <tr>\n",
       "      <th>1995</th>\n",
       "      <td>223</td>\n",
       "      <td>223</td>\n",
       "    </tr>\n",
       "    <tr>\n",
       "      <th>1996</th>\n",
       "      <td>223</td>\n",
       "      <td>223</td>\n",
       "    </tr>\n",
       "    <tr>\n",
       "      <th>1997</th>\n",
       "      <td>226</td>\n",
       "      <td>226</td>\n",
       "    </tr>\n",
       "    <tr>\n",
       "      <th>1998</th>\n",
       "      <td>226</td>\n",
       "      <td>226</td>\n",
       "    </tr>\n",
       "    <tr>\n",
       "      <th>1999</th>\n",
       "      <td>227</td>\n",
       "      <td>227</td>\n",
       "    </tr>\n",
       "    <tr>\n",
       "      <th>2000</th>\n",
       "      <td>233</td>\n",
       "      <td>233</td>\n",
       "    </tr>\n",
       "    <tr>\n",
       "      <th>2001</th>\n",
       "      <td>234</td>\n",
       "      <td>234</td>\n",
       "    </tr>\n",
       "    <tr>\n",
       "      <th>2002</th>\n",
       "      <td>235</td>\n",
       "      <td>235</td>\n",
       "    </tr>\n",
       "    <tr>\n",
       "      <th>2003</th>\n",
       "      <td>235</td>\n",
       "      <td>235</td>\n",
       "    </tr>\n",
       "    <tr>\n",
       "      <th>2004</th>\n",
       "      <td>236</td>\n",
       "      <td>236</td>\n",
       "    </tr>\n",
       "    <tr>\n",
       "      <th>2005</th>\n",
       "      <td>236</td>\n",
       "      <td>236</td>\n",
       "    </tr>\n",
       "    <tr>\n",
       "      <th>2006</th>\n",
       "      <td>237</td>\n",
       "      <td>237</td>\n",
       "    </tr>\n",
       "    <tr>\n",
       "      <th>2007</th>\n",
       "      <td>237</td>\n",
       "      <td>237</td>\n",
       "    </tr>\n",
       "    <tr>\n",
       "      <th>2008</th>\n",
       "      <td>238</td>\n",
       "      <td>238</td>\n",
       "    </tr>\n",
       "    <tr>\n",
       "      <th>2009</th>\n",
       "      <td>239</td>\n",
       "      <td>239</td>\n",
       "    </tr>\n",
       "    <tr>\n",
       "      <th>2010</th>\n",
       "      <td>239</td>\n",
       "      <td>239</td>\n",
       "    </tr>\n",
       "    <tr>\n",
       "      <th>2011</th>\n",
       "      <td>240</td>\n",
       "      <td>240</td>\n",
       "    </tr>\n",
       "    <tr>\n",
       "      <th>2012</th>\n",
       "      <td>240</td>\n",
       "      <td>240</td>\n",
       "    </tr>\n",
       "    <tr>\n",
       "      <th>2013</th>\n",
       "      <td>242</td>\n",
       "      <td>242</td>\n",
       "    </tr>\n",
       "    <tr>\n",
       "      <th>2014</th>\n",
       "      <td>242</td>\n",
       "      <td>242</td>\n",
       "    </tr>\n",
       "    <tr>\n",
       "      <th>2015</th>\n",
       "      <td>242</td>\n",
       "      <td>242</td>\n",
       "    </tr>\n",
       "    <tr>\n",
       "      <th>2016</th>\n",
       "      <td>242</td>\n",
       "      <td>242</td>\n",
       "    </tr>\n",
       "    <tr>\n",
       "      <th>2017</th>\n",
       "      <td>242</td>\n",
       "      <td>242</td>\n",
       "    </tr>\n",
       "    <tr>\n",
       "      <th>2018</th>\n",
       "      <td>242</td>\n",
       "      <td>242</td>\n",
       "    </tr>\n",
       "    <tr>\n",
       "      <th>2019</th>\n",
       "      <td>242</td>\n",
       "      <td>242</td>\n",
       "    </tr>\n",
       "    <tr>\n",
       "      <th>2020</th>\n",
       "      <td>242</td>\n",
       "      <td>242</td>\n",
       "    </tr>\n",
       "    <tr>\n",
       "      <th>2021</th>\n",
       "      <td>241</td>\n",
       "      <td>241</td>\n",
       "    </tr>\n",
       "    <tr>\n",
       "      <th>2022</th>\n",
       "      <td>232</td>\n",
       "      <td>232</td>\n",
       "    </tr>\n",
       "  </tbody>\n",
       "</table>\n",
       "</div>"
      ],
      "text/plain": [
       "      Country  GDP_Per_Capita\n",
       "Year                         \n",
       "1990      207             207\n",
       "1991      208             208\n",
       "1992      210             210\n",
       "1993      211             211\n",
       "1994      213             213\n",
       "1995      223             223\n",
       "1996      223             223\n",
       "1997      226             226\n",
       "1998      226             226\n",
       "1999      227             227\n",
       "2000      233             233\n",
       "2001      234             234\n",
       "2002      235             235\n",
       "2003      235             235\n",
       "2004      236             236\n",
       "2005      236             236\n",
       "2006      237             237\n",
       "2007      237             237\n",
       "2008      238             238\n",
       "2009      239             239\n",
       "2010      239             239\n",
       "2011      240             240\n",
       "2012      240             240\n",
       "2013      242             242\n",
       "2014      242             242\n",
       "2015      242             242\n",
       "2016      242             242\n",
       "2017      242             242\n",
       "2018      242             242\n",
       "2019      242             242\n",
       "2020      242             242\n",
       "2021      241             241\n",
       "2022      232             232"
      ]
     },
     "execution_count": 24,
     "metadata": {},
     "output_type": "execute_result"
    }
   ],
   "source": [
    "gdp_df.groupby('Year').count()\n"
   ]
  },
  {
   "cell_type": "markdown",
   "id": "78a5c317-015c-4339-a7dd-099fb062b675",
   "metadata": {},
   "source": [
    "Data were collected from 1990 to 2022. Number of observations steadily increased from 1990 to 2013. After 2013, the number of observations remained stable until a sharp decline occurred in 2022."
   ]
  },
  {
   "cell_type": "markdown",
   "id": "235a60de-59a2-4675-b2e4-d3cc14c87eae",
   "metadata": {},
   "source": [
    "8. find how many countries are in the dataset and return countries that are least represented in the dataset"
   ]
  },
  {
   "cell_type": "code",
   "execution_count": 27,
   "id": "6ab55112-9935-4ebf-a51e-490d6711bd69",
   "metadata": {},
   "outputs": [
    {
     "data": {
      "text/html": [
       "<div>\n",
       "<style scoped>\n",
       "    .dataframe tbody tr th:only-of-type {\n",
       "        vertical-align: middle;\n",
       "    }\n",
       "\n",
       "    .dataframe tbody tr th {\n",
       "        vertical-align: top;\n",
       "    }\n",
       "\n",
       "    .dataframe thead th {\n",
       "        text-align: right;\n",
       "    }\n",
       "</style>\n",
       "<table border=\"1\" class=\"dataframe\">\n",
       "  <thead>\n",
       "    <tr style=\"text-align: right;\">\n",
       "      <th></th>\n",
       "      <th>Country</th>\n",
       "      <th>Year</th>\n",
       "      <th>GDP_Per_Capita</th>\n",
       "    </tr>\n",
       "  </thead>\n",
       "  <tbody>\n",
       "    <tr>\n",
       "      <th>0</th>\n",
       "      <td>Afghanistan</td>\n",
       "      <td>2021</td>\n",
       "      <td>1517.016266</td>\n",
       "    </tr>\n",
       "    <tr>\n",
       "      <th>20</th>\n",
       "      <td>Africa Eastern and Southern</td>\n",
       "      <td>2022</td>\n",
       "      <td>3553.913370</td>\n",
       "    </tr>\n",
       "    <tr>\n",
       "      <th>53</th>\n",
       "      <td>Africa Western and Central</td>\n",
       "      <td>2022</td>\n",
       "      <td>4063.857691</td>\n",
       "    </tr>\n",
       "    <tr>\n",
       "      <th>86</th>\n",
       "      <td>Albania</td>\n",
       "      <td>2022</td>\n",
       "      <td>15501.662931</td>\n",
       "    </tr>\n",
       "    <tr>\n",
       "      <th>119</th>\n",
       "      <td>Algeria</td>\n",
       "      <td>2022</td>\n",
       "      <td>11187.382303</td>\n",
       "    </tr>\n",
       "    <tr>\n",
       "      <th>...</th>\n",
       "      <td>...</td>\n",
       "      <td>...</td>\n",
       "      <td>...</td>\n",
       "    </tr>\n",
       "    <tr>\n",
       "      <th>7501</th>\n",
       "      <td>Viet Nam</td>\n",
       "      <td>2022</td>\n",
       "      <td>11396.531469</td>\n",
       "    </tr>\n",
       "    <tr>\n",
       "      <th>7534</th>\n",
       "      <td>West Bank and Gaza</td>\n",
       "      <td>2022</td>\n",
       "      <td>5722.409175</td>\n",
       "    </tr>\n",
       "    <tr>\n",
       "      <th>7563</th>\n",
       "      <td>World</td>\n",
       "      <td>2022</td>\n",
       "      <td>17485.934316</td>\n",
       "    </tr>\n",
       "    <tr>\n",
       "      <th>7596</th>\n",
       "      <td>Zambia</td>\n",
       "      <td>2022</td>\n",
       "      <td>3298.142890</td>\n",
       "    </tr>\n",
       "    <tr>\n",
       "      <th>7629</th>\n",
       "      <td>Zimbabwe</td>\n",
       "      <td>2022</td>\n",
       "      <td>2143.237574</td>\n",
       "    </tr>\n",
       "  </tbody>\n",
       "</table>\n",
       "<p>242 rows × 3 columns</p>\n",
       "</div>"
      ],
      "text/plain": [
       "                          Country  Year  GDP_Per_Capita\n",
       "0                     Afghanistan  2021     1517.016266\n",
       "20    Africa Eastern and Southern  2022     3553.913370\n",
       "53     Africa Western and Central  2022     4063.857691\n",
       "86                        Albania  2022    15501.662931\n",
       "119                       Algeria  2022    11187.382303\n",
       "...                           ...   ...             ...\n",
       "7501                     Viet Nam  2022    11396.531469\n",
       "7534           West Bank and Gaza  2022     5722.409175\n",
       "7563                        World  2022    17485.934316\n",
       "7596                       Zambia  2022     3298.142890\n",
       "7629                     Zimbabwe  2022     2143.237574\n",
       "\n",
       "[242 rows x 3 columns]"
      ]
     },
     "execution_count": 27,
     "metadata": {},
     "output_type": "execute_result"
    }
   ],
   "source": [
    "gdp_df.drop_duplicates(subset=['Country'])"
   ]
  },
  {
   "cell_type": "code",
   "execution_count": 28,
   "id": "64b6bbca-d4fc-4212-8cdc-5c0258c6ec31",
   "metadata": {},
   "outputs": [
    {
     "data": {
      "text/plain": [
       "Country      Year  GDP_Per_Capita\n",
       "Afghanistan  2002  1280.463171       1\n",
       "             2003  1292.333437       1\n",
       "             2004  1260.060581       1\n",
       "             2005  1352.320627       1\n",
       "             2006  1366.993146       1\n",
       "                                    ..\n",
       "Zimbabwe     2018  2399.621551       1\n",
       "             2019  2203.396810       1\n",
       "             2020  1990.319419       1\n",
       "             2021  2115.144555       1\n",
       "             2022  2143.237574       1\n",
       "Name: count, Length: 7662, dtype: int64"
      ]
     },
     "execution_count": 28,
     "metadata": {},
     "output_type": "execute_result"
    }
   ],
   "source": [
    "gdp_df.groupby('Country').value_counts(ascending=True)"
   ]
  },
  {
   "cell_type": "markdown",
   "id": "f396d902-3fde-4449-bfeb-d91b0188c50f",
   "metadata": {},
   "source": [
    "This dataset includes 242 countries, with Afghanistan being the least represented. One possible explanation is that data for this country were collected only from 2002 to 2006."
   ]
  },
  {
   "cell_type": "markdown",
   "id": "20347586-270b-4bee-9d0e-406724336a71",
   "metadata": {},
   "source": [
    "9. creat a new dataframe gdp_2021 by selecting only 2021 data from gdp_df"
   ]
  },
  {
   "cell_type": "code",
   "execution_count": 31,
   "id": "c05416ee-098e-4555-aafa-5855e2785cc6",
   "metadata": {},
   "outputs": [],
   "source": [
    "gdp_2021 = gdp_df[gdp_df['Year'] == 2021]"
   ]
  },
  {
   "cell_type": "markdown",
   "id": "1ff9485b-2307-4bb7-9bce-688afcd29b9b",
   "metadata": {},
   "source": [
    "10. find the summary statistics for GDP per capita in 2021"
   ]
  },
  {
   "cell_type": "code",
   "execution_count": 33,
   "id": "55d72473-1553-45bc-b6a4-d2e1d068ea13",
   "metadata": {},
   "outputs": [
    {
     "data": {
      "text/html": [
       "<div>\n",
       "<style scoped>\n",
       "    .dataframe tbody tr th:only-of-type {\n",
       "        vertical-align: middle;\n",
       "    }\n",
       "\n",
       "    .dataframe tbody tr th {\n",
       "        vertical-align: top;\n",
       "    }\n",
       "\n",
       "    .dataframe thead th {\n",
       "        text-align: right;\n",
       "    }\n",
       "</style>\n",
       "<table border=\"1\" class=\"dataframe\">\n",
       "  <thead>\n",
       "    <tr style=\"text-align: right;\">\n",
       "      <th></th>\n",
       "      <th>Year</th>\n",
       "      <th>GDP_Per_Capita</th>\n",
       "    </tr>\n",
       "  </thead>\n",
       "  <tbody>\n",
       "    <tr>\n",
       "      <th>count</th>\n",
       "      <td>241.0</td>\n",
       "      <td>241.000000</td>\n",
       "    </tr>\n",
       "    <tr>\n",
       "      <th>mean</th>\n",
       "      <td>2021.0</td>\n",
       "      <td>20711.570080</td>\n",
       "    </tr>\n",
       "    <tr>\n",
       "      <th>std</th>\n",
       "      <td>0.0</td>\n",
       "      <td>20916.978968</td>\n",
       "    </tr>\n",
       "    <tr>\n",
       "      <th>min</th>\n",
       "      <td>2021.0</td>\n",
       "      <td>714.066712</td>\n",
       "    </tr>\n",
       "    <tr>\n",
       "      <th>25%</th>\n",
       "      <td>2021.0</td>\n",
       "      <td>5044.196028</td>\n",
       "    </tr>\n",
       "    <tr>\n",
       "      <th>50%</th>\n",
       "      <td>2021.0</td>\n",
       "      <td>13754.802423</td>\n",
       "    </tr>\n",
       "    <tr>\n",
       "      <th>75%</th>\n",
       "      <td>2021.0</td>\n",
       "      <td>30974.370692</td>\n",
       "    </tr>\n",
       "    <tr>\n",
       "      <th>max</th>\n",
       "      <td>2021.0</td>\n",
       "      <td>115683.493708</td>\n",
       "    </tr>\n",
       "  </tbody>\n",
       "</table>\n",
       "</div>"
      ],
      "text/plain": [
       "         Year  GDP_Per_Capita\n",
       "count   241.0      241.000000\n",
       "mean   2021.0    20711.570080\n",
       "std       0.0    20916.978968\n",
       "min    2021.0      714.066712\n",
       "25%    2021.0     5044.196028\n",
       "50%    2021.0    13754.802423\n",
       "75%    2021.0    30974.370692\n",
       "max    2021.0   115683.493708"
      ]
     },
     "execution_count": 33,
     "metadata": {},
     "output_type": "execute_result"
    }
   ],
   "source": [
    "gdp_2021.describe()"
   ]
  },
  {
   "cell_type": "markdown",
   "id": "0a133fd2-abf4-4530-abc0-fd58e698eb12",
   "metadata": {},
   "source": [
    "11. creat a histogram of GDP Per Capita numbers for 2021\n"
   ]
  },
  {
   "cell_type": "code",
   "execution_count": 35,
   "id": "688ef93e-cab7-4b47-93a3-9fca59319e84",
   "metadata": {
    "scrolled": true
   },
   "outputs": [
    {
     "data": {
      "text/plain": [
       "<Axes: title={'center': 'UN data GDP Per Capita in 2021'}, xlabel='GDP_Per_Capita', ylabel='Frequency'>"
      ]
     },
     "execution_count": 35,
     "metadata": {},
     "output_type": "execute_result"
    },
    {
     "data": {
      "image/png": "[encoded data removed]",
      "text/plain": [
       "<Figure size 640x480 with 1 Axes>"
      ]
     },
     "metadata": {},
     "output_type": "display_data"
    }
   ],
   "source": [
    "gdp_2021.plot.hist(column=['GDP_Per_Capita'], ylabel='Frequency', xlabel='GDP_Per_Capita', title='UN data GDP Per Capita in 2021', bins=100)"
   ]
  },
  {
   "cell_type": "markdown",
   "id": "22a7a12d-ce81-4d08-9ba2-d91abae58f1a",
   "metadata": {},
   "source": [
    "The distribution of GDP per capita is right skewed indicating that there were more low GDP per capita countries in the data set."
   ]
  },
  {
   "cell_type": "markdown",
   "id": "30bcb120-1fb9-4a57-adfc-2dc540df3fc0",
   "metadata": {},
   "source": [
    "12. Find the top 5 counties by GDP per capita in 2021."
   ]
  },
  {
   "cell_type": "code",
   "execution_count": 38,
   "id": "13e8efea-5af4-4e4e-b160-7aad9e771f13",
   "metadata": {},
   "outputs": [
    {
     "data": {
      "text/html": [
       "<div>\n",
       "<style scoped>\n",
       "    .dataframe tbody tr th:only-of-type {\n",
       "        vertical-align: middle;\n",
       "    }\n",
       "\n",
       "    .dataframe tbody tr th {\n",
       "        vertical-align: top;\n",
       "    }\n",
       "\n",
       "    .dataframe thead th {\n",
       "        text-align: right;\n",
       "    }\n",
       "</style>\n",
       "<table border=\"1\" class=\"dataframe\">\n",
       "  <thead>\n",
       "    <tr style=\"text-align: right;\">\n",
       "      <th></th>\n",
       "      <th>Year</th>\n",
       "      <th>GDP_Per_Capita</th>\n",
       "    </tr>\n",
       "    <tr>\n",
       "      <th>Country</th>\n",
       "      <th></th>\n",
       "      <th></th>\n",
       "    </tr>\n",
       "  </thead>\n",
       "  <tbody>\n",
       "    <tr>\n",
       "      <th>Luxembourg</th>\n",
       "      <td>2021</td>\n",
       "      <td>115683.493708</td>\n",
       "    </tr>\n",
       "    <tr>\n",
       "      <th>Singapore</th>\n",
       "      <td>2021</td>\n",
       "      <td>107741.118436</td>\n",
       "    </tr>\n",
       "    <tr>\n",
       "      <th>Ireland</th>\n",
       "      <td>2021</td>\n",
       "      <td>102785.490239</td>\n",
       "    </tr>\n",
       "    <tr>\n",
       "      <th>Qatar</th>\n",
       "      <td>2021</td>\n",
       "      <td>92862.571798</td>\n",
       "    </tr>\n",
       "    <tr>\n",
       "      <th>Bermuda</th>\n",
       "      <td>2021</td>\n",
       "      <td>78570.489515</td>\n",
       "    </tr>\n",
       "  </tbody>\n",
       "</table>\n",
       "</div>"
      ],
      "text/plain": [
       "            Year  GDP_Per_Capita\n",
       "Country                         \n",
       "Luxembourg  2021   115683.493708\n",
       "Singapore   2021   107741.118436\n",
       "Ireland     2021   102785.490239\n",
       "Qatar       2021    92862.571798\n",
       "Bermuda     2021    78570.489515"
      ]
     },
     "execution_count": 38,
     "metadata": {},
     "output_type": "execute_result"
    }
   ],
   "source": [
    "gdp_2021.sort_values('GDP_Per_Capita', ascending=False).head(5).set_index('Country')\n"
   ]
  },
  {
   "cell_type": "markdown",
   "id": "06366a23-65da-4a4f-a080-f4a614103706",
   "metadata": {},
   "source": [
    "find the bottom 5 countries by GDP per capita in 2021."
   ]
  },
  {
   "cell_type": "code",
   "execution_count": 40,
   "id": "eaf02431-29b2-421a-b179-1bb0904a1e26",
   "metadata": {},
   "outputs": [
    {
     "data": {
      "text/html": [
       "<div>\n",
       "<style scoped>\n",
       "    .dataframe tbody tr th:only-of-type {\n",
       "        vertical-align: middle;\n",
       "    }\n",
       "\n",
       "    .dataframe tbody tr th {\n",
       "        vertical-align: top;\n",
       "    }\n",
       "\n",
       "    .dataframe thead th {\n",
       "        text-align: right;\n",
       "    }\n",
       "</style>\n",
       "<table border=\"1\" class=\"dataframe\">\n",
       "  <thead>\n",
       "    <tr style=\"text-align: right;\">\n",
       "      <th></th>\n",
       "      <th>Year</th>\n",
       "      <th>GDP_Per_Capita</th>\n",
       "    </tr>\n",
       "    <tr>\n",
       "      <th>Country</th>\n",
       "      <th></th>\n",
       "      <th></th>\n",
       "    </tr>\n",
       "  </thead>\n",
       "  <tbody>\n",
       "    <tr>\n",
       "      <th>Burundi</th>\n",
       "      <td>2021</td>\n",
       "      <td>714.066712</td>\n",
       "    </tr>\n",
       "    <tr>\n",
       "      <th>Central African Republic</th>\n",
       "      <td>2021</td>\n",
       "      <td>837.504686</td>\n",
       "    </tr>\n",
       "    <tr>\n",
       "      <th>Dem. Rep. Congo</th>\n",
       "      <td>2021</td>\n",
       "      <td>1073.643271</td>\n",
       "    </tr>\n",
       "    <tr>\n",
       "      <th>Somalia</th>\n",
       "      <td>2021</td>\n",
       "      <td>1136.735989</td>\n",
       "    </tr>\n",
       "    <tr>\n",
       "      <th>Niger</th>\n",
       "      <td>2021</td>\n",
       "      <td>1186.576809</td>\n",
       "    </tr>\n",
       "  </tbody>\n",
       "</table>\n",
       "</div>"
      ],
      "text/plain": [
       "                          Year  GDP_Per_Capita\n",
       "Country                                       \n",
       "Burundi                   2021      714.066712\n",
       "Central African Republic  2021      837.504686\n",
       "Dem. Rep. Congo           2021     1073.643271\n",
       "Somalia                   2021     1136.735989\n",
       "Niger                     2021     1186.576809"
      ]
     },
     "execution_count": 40,
     "metadata": {},
     "output_type": "execute_result"
    }
   ],
   "source": [
    "gdp_2021.sort_values('GDP_Per_Capita', ascending=True).head(5).set_index('Country')"
   ]
  },
  {
   "cell_type": "markdown",
   "id": "522652dd-8982-4d8d-ab2e-08c304084c8c",
   "metadata": {},
   "source": [
    "13.creat a dataframe named gdp_pivoted including the data for only 1990 and 2021. Each row represents a country, each column represents a year and the values in the table are the GDP_Per_Capita amount.The dataframe does not include any missing values"
   ]
  },
  {
   "cell_type": "code",
   "execution_count": 42,
   "id": "1d1776ff-1495-426a-8871-ad15b68b1eaa",
   "metadata": {},
   "outputs": [],
   "source": [
    "gdp_pivote = gdp_df.pivot_table(index='Country', columns = 'Year', values = 'GDP_Per_Capita').dropna()\n",
    "gdp_1991 = gdp_pivote.iloc[: , 0:1]\n",
    "gdp_2021 = gdp_pivote.iloc[: , 31:32]\n",
    "gdp_pivoted = pd.merge(left = gdp_1991, right = gdp_2021, on = 'Country')"
   ]
  },
  {
   "cell_type": "markdown",
   "id": "e8f8c3d6-c72f-487f-b3c1-7677f16e1e7d",
   "metadata": {},
   "source": [
    "14\tCreate a new column in gdp_pivoted named Percent_Change. This column should contain the percent change in GDP_Per_Capita from 1990 to 2021. Hint: Percent change is calculated as 100*(New Value - Old Value) / Old Value."
   ]
  },
  {
   "cell_type": "code",
   "execution_count": 44,
   "id": "68f77607-1109-4916-9abe-1b7f9267cf0a",
   "metadata": {},
   "outputs": [
    {
     "data": {
      "text/html": [
       "<div>\n",
       "<style scoped>\n",
       "    .dataframe tbody tr th:only-of-type {\n",
       "        vertical-align: middle;\n",
       "    }\n",
       "\n",
       "    .dataframe tbody tr th {\n",
       "        vertical-align: top;\n",
       "    }\n",
       "\n",
       "    .dataframe thead th {\n",
       "        text-align: right;\n",
       "    }\n",
       "</style>\n",
       "<table border=\"1\" class=\"dataframe\">\n",
       "  <thead>\n",
       "    <tr style=\"text-align: right;\">\n",
       "      <th>Year</th>\n",
       "      <th>1990</th>\n",
       "      <th>2021</th>\n",
       "      <th>Percent_Change</th>\n",
       "    </tr>\n",
       "    <tr>\n",
       "      <th>Country</th>\n",
       "      <th></th>\n",
       "      <th></th>\n",
       "      <th></th>\n",
       "    </tr>\n",
       "  </thead>\n",
       "  <tbody>\n",
       "    <tr>\n",
       "      <th>Africa Eastern and Southern</th>\n",
       "      <td>3037.297466</td>\n",
       "      <td>3519.174840</td>\n",
       "      <td>15.865334</td>\n",
       "    </tr>\n",
       "    <tr>\n",
       "      <th>Africa Western and Central</th>\n",
       "      <td>2788.301039</td>\n",
       "      <td>4014.607965</td>\n",
       "      <td>43.980435</td>\n",
       "    </tr>\n",
       "    <tr>\n",
       "      <th>Albania</th>\n",
       "      <td>4827.027705</td>\n",
       "      <td>14595.944386</td>\n",
       "      <td>202.379544</td>\n",
       "    </tr>\n",
       "    <tr>\n",
       "      <th>Algeria</th>\n",
       "      <td>8828.874473</td>\n",
       "      <td>11029.138782</td>\n",
       "      <td>24.921232</td>\n",
       "    </tr>\n",
       "    <tr>\n",
       "      <th>Angola</th>\n",
       "      <td>5793.084512</td>\n",
       "      <td>5911.835657</td>\n",
       "      <td>2.049878</td>\n",
       "    </tr>\n",
       "  </tbody>\n",
       "</table>\n",
       "</div>"
      ],
      "text/plain": [
       "Year                                1990          2021  Percent_Change\n",
       "Country                                                               \n",
       "Africa Eastern and Southern  3037.297466   3519.174840       15.865334\n",
       "Africa Western and Central   2788.301039   4014.607965       43.980435\n",
       "Albania                      4827.027705  14595.944386      202.379544\n",
       "Algeria                      8828.874473  11029.138782       24.921232\n",
       "Angola                       5793.084512   5911.835657        2.049878"
      ]
     },
     "execution_count": 44,
     "metadata": {},
     "output_type": "execute_result"
    }
   ],
   "source": [
    "gdp_pivoted['Percent_Change'] = 100*(gdp_pivoted[2021] - gdp_pivoted[1990]) / gdp_pivoted[1990]\n",
    "gdp_pivoted.head()\n",
    "\n"
   ]
  },
  {
   "cell_type": "markdown",
   "id": "370e26a5-32b8-423c-9c0b-b650570b80eb",
   "metadata": {},
   "source": [
    "15\tHow many countries experienced a negative percent change in GDP per capita from 1990 to 2021?"
   ]
  },
  {
   "cell_type": "code",
   "execution_count": 46,
   "id": "493317c2-6b9e-458b-a2d8-ef80aeb7a553",
   "metadata": {},
   "outputs": [
    {
     "name": "stdout",
     "output_type": "stream",
     "text": [
      "<class 'pandas.core.frame.DataFrame'>\n",
      "Index: 202 entries, Africa Eastern and Southern to Zimbabwe\n",
      "Data columns (total 3 columns):\n",
      " #   Column          Non-Null Count  Dtype  \n",
      "---  ------          --------------  -----  \n",
      " 0   1990            202 non-null    float64\n",
      " 1   2021            202 non-null    float64\n",
      " 2   Percent_Change  202 non-null    float64\n",
      "dtypes: float64(3)\n",
      "memory usage: 6.3+ KB\n"
     ]
    }
   ],
   "source": [
    "gdp_pivoted.info()"
   ]
  },
  {
   "cell_type": "code",
   "execution_count": 47,
   "id": "47abfe44-22bf-4494-8e93-62d45e8a854b",
   "metadata": {},
   "outputs": [],
   "source": [
    "neg_GDP = gdp_pivoted.groupby('Country')['Percent_Change'].apply(lambda x: x < 0)\n"
   ]
  },
  {
   "cell_type": "code",
   "execution_count": 48,
   "id": "52d6e8b0-e593-448d-aa94-dc28ff747212",
   "metadata": {},
   "outputs": [
    {
     "data": {
      "text/plain": [
       "19"
      ]
     },
     "execution_count": 48,
     "metadata": {},
     "output_type": "execute_result"
    }
   ],
   "source": [
    "neg_GDP.sum()"
   ]
  },
  {
   "cell_type": "markdown",
   "id": "5f7241ff-7cef-400a-99e4-4a564926d498",
   "metadata": {},
   "source": [
    "There are 19 countries with a negative percent change in GDP per capita from 1990 to 2021."
   ]
  },
  {
   "cell_type": "markdown",
   "id": "8952bc2c-734b-4ad6-bd77-cbcd10264b89",
   "metadata": {},
   "source": [
    "16\tWhich country had the highest % change in GDP per capita? Create a line plot showing this country's GDP per capita for all years from 1990 to 2018. Create another showing the country with the second highest % change in GDP.\r\n"
   ]
  },
  {
   "cell_type": "code",
   "execution_count": 51,
   "id": "426d9ea2-1759-4b58-abfa-97747d6a5e8a",
   "metadata": {},
   "outputs": [
    {
     "data": {
      "text/html": [
       "<div>\n",
       "<style scoped>\n",
       "    .dataframe tbody tr th:only-of-type {\n",
       "        vertical-align: middle;\n",
       "    }\n",
       "\n",
       "    .dataframe tbody tr th {\n",
       "        vertical-align: top;\n",
       "    }\n",
       "\n",
       "    .dataframe thead th {\n",
       "        text-align: right;\n",
       "    }\n",
       "</style>\n",
       "<table border=\"1\" class=\"dataframe\">\n",
       "  <thead>\n",
       "    <tr style=\"text-align: right;\">\n",
       "      <th>Year</th>\n",
       "      <th>1990</th>\n",
       "      <th>2021</th>\n",
       "      <th>Percent_Change</th>\n",
       "    </tr>\n",
       "    <tr>\n",
       "      <th>Country</th>\n",
       "      <th></th>\n",
       "      <th></th>\n",
       "      <th></th>\n",
       "    </tr>\n",
       "  </thead>\n",
       "  <tbody>\n",
       "    <tr>\n",
       "      <th>Equatorial Guinea</th>\n",
       "      <td>936.419751</td>\n",
       "      <td>14637.007350</td>\n",
       "      <td>1463.081870</td>\n",
       "    </tr>\n",
       "    <tr>\n",
       "      <th>China</th>\n",
       "      <td>1423.896348</td>\n",
       "      <td>17657.495181</td>\n",
       "      <td>1140.082904</td>\n",
       "    </tr>\n",
       "    <tr>\n",
       "      <th>East Asia &amp; Pacific (excluding high income)</th>\n",
       "      <td>2191.972060</td>\n",
       "      <td>15415.447708</td>\n",
       "      <td>603.268440</td>\n",
       "    </tr>\n",
       "    <tr>\n",
       "      <th>East Asia &amp; Pacific (IDA &amp; IBRD)</th>\n",
       "      <td>2218.031627</td>\n",
       "      <td>15586.699395</td>\n",
       "      <td>602.726652</td>\n",
       "    </tr>\n",
       "    <tr>\n",
       "      <th>Myanmar</th>\n",
       "      <td>581.613311</td>\n",
       "      <td>4032.625653</td>\n",
       "      <td>593.351678</td>\n",
       "    </tr>\n",
       "    <tr>\n",
       "      <th>Viet Nam</th>\n",
       "      <td>2099.394649</td>\n",
       "      <td>10628.219166</td>\n",
       "      <td>406.251608</td>\n",
       "    </tr>\n",
       "    <tr>\n",
       "      <th>Guyana</th>\n",
       "      <td>4818.387995</td>\n",
       "      <td>21925.186859</td>\n",
       "      <td>355.031577</td>\n",
       "    </tr>\n",
       "    <tr>\n",
       "      <th>Lao PDR</th>\n",
       "      <td>1939.086239</td>\n",
       "      <td>7846.975022</td>\n",
       "      <td>304.673854</td>\n",
       "    </tr>\n",
       "    <tr>\n",
       "      <th>Ireland</th>\n",
       "      <td>26781.627609</td>\n",
       "      <td>102785.490239</td>\n",
       "      <td>283.791052</td>\n",
       "    </tr>\n",
       "    <tr>\n",
       "      <th>India</th>\n",
       "      <td>1819.021597</td>\n",
       "      <td>6677.185031</td>\n",
       "      <td>267.075633</td>\n",
       "    </tr>\n",
       "  </tbody>\n",
       "</table>\n",
       "</div>"
      ],
      "text/plain": [
       "Year                                                 1990           2021  \\\n",
       "Country                                                                    \n",
       "Equatorial Guinea                              936.419751   14637.007350   \n",
       "China                                         1423.896348   17657.495181   \n",
       "East Asia & Pacific (excluding high income)   2191.972060   15415.447708   \n",
       "East Asia & Pacific (IDA & IBRD)              2218.031627   15586.699395   \n",
       "Myanmar                                        581.613311    4032.625653   \n",
       "Viet Nam                                      2099.394649   10628.219166   \n",
       "Guyana                                        4818.387995   21925.186859   \n",
       "Lao PDR                                       1939.086239    7846.975022   \n",
       "Ireland                                      26781.627609  102785.490239   \n",
       "India                                         1819.021597    6677.185031   \n",
       "\n",
       "Year                                         Percent_Change  \n",
       "Country                                                      \n",
       "Equatorial Guinea                               1463.081870  \n",
       "China                                           1140.082904  \n",
       "East Asia & Pacific (excluding high income)      603.268440  \n",
       "East Asia & Pacific (IDA & IBRD)                 602.726652  \n",
       "Myanmar                                          593.351678  \n",
       "Viet Nam                                         406.251608  \n",
       "Guyana                                           355.031577  \n",
       "Lao PDR                                          304.673854  \n",
       "Ireland                                          283.791052  \n",
       "India                                            267.075633  "
      ]
     },
     "execution_count": 51,
     "metadata": {},
     "output_type": "execute_result"
    }
   ],
   "source": [
    "gdp_pivoted.nlargest(10,columns='Percent_Change')"
   ]
  },
  {
   "cell_type": "markdown",
   "id": "af955cfc-274a-4954-897d-31fb3995f581",
   "metadata": {},
   "source": [
    "Equatorial Guinea had the highest % change in GDP per capita from 1990 to 2021 followed by China."
   ]
  },
  {
   "cell_type": "code",
   "execution_count": 53,
   "id": "0ee22501-8b47-491f-9ab0-129345dfca62",
   "metadata": {},
   "outputs": [],
   "source": [
    "gdp_Equatorial = gdp_df[(gdp_df['Country'] == 'Equatorial Guinea')]\n",
    "gdp_to_2018 = gdp_Equatorial.drop(gdp_Equatorial[gdp_Equatorial['Year'] > 2018].index)\n"
   ]
  },
  {
   "cell_type": "code",
   "execution_count": 54,
   "id": "c583b8c2-37f8-4cd9-a900-f2d389ed8cd2",
   "metadata": {},
   "outputs": [
    {
     "data": {
      "image/png": "[encoded data removed]",
      "text/plain": [
       "<Figure size 640x480 with 1 Axes>"
      ]
     },
     "metadata": {},
     "output_type": "display_data"
    }
   ],
   "source": [
    "line_plot_= sns.lineplot(x= 'Year', y='GDP_Per_Capita', data= gdp_to_2018 )\n",
    "plt.title('Equatorial Guinea: GDP Per Capita from 1990 to 2018')\n",
    "plt.show()\n"
   ]
  },
  {
   "cell_type": "code",
   "execution_count": 55,
   "id": "26748b5b-0dc6-4432-be92-a8c7bd79c5fd",
   "metadata": {},
   "outputs": [
    {
     "data": {
      "image/png": "[encoded data removed]",
      "text/plain": [
       "<Figure size 640x480 with 1 Axes>"
      ]
     },
     "metadata": {},
     "output_type": "display_data"
    }
   ],
   "source": [
    "gdp_China = gdp_df[(gdp_df['Country'] == 'China')]\n",
    "gdp_China_trimmed = gdp_China.drop(gdp_China[gdp_China['Year'] > 2018].index)\n",
    "line_plot_= sns.lineplot(x= 'Year', y='GDP_Per_Capita', data= gdp_China_trimmed)\n",
    "plt.title('China: GDP Per Capita from 1990 to 2018')\n",
    "plt.show()\n"
   ]
  },
  {
   "cell_type": "markdown",
   "id": "e84faa26-ef5f-40ae-9e2b-2f8953373030",
   "metadata": {},
   "source": [
    "GDP per capita of China is steadily increased from 1990 to 2018 but Equatorial Guinea had declined GDP per capita after 2007."
   ]
  },
  {
   "cell_type": "markdown",
   "id": "9d211c49-26f0-47b2-925b-6bfd0fbcd8a5",
   "metadata": {},
   "source": [
    "Bonus: Put both line charts on the same plot."
   ]
  },
  {
   "cell_type": "code",
   "execution_count": 58,
   "id": "0c05c004-007e-4224-8d07-264081369d77",
   "metadata": {},
   "outputs": [
    {
     "data": {
      "image/png": "[encoded data removed]",
      "text/plain": [
       "<Figure size 640x480 with 1 Axes>"
      ]
     },
     "metadata": {},
     "output_type": "display_data"
    }
   ],
   "source": [
    "gdp_selected = gdp_df[(gdp_df['Country'] == 'China') | (gdp_df['Country'] == 'Equatorial Guinea')]\n",
    "gdp_year_trimmed = gdp_selected.drop(gdp_selected[gdp_selected['Year'] > 2018].index)\n",
    "gdp_year_trimmed.set_index('Year', inplace=True)\n",
    "gdp_year_trimmed.groupby(\"Country\")[\"GDP_Per_Capita\"].plot(legend=True, xlabel=\"Year\", ylabel=\"GDP Per Capita\")\n",
    "plt.title('GDP Per Capital from 1990 to 2018')\n",
    "plt.grid(True, which='both', linestyle='--', linewidth=0.5, color='gray')"
   ]
  },
  {
   "cell_type": "markdown",
   "id": "302cc72b-93a8-4733-a068-55abce49a14b",
   "metadata": {},
   "source": [
    "17. creat a dataframe named continents from continents.csv"
   ]
  },
  {
   "cell_type": "code",
   "execution_count": 60,
   "id": "6c983fa3-63a7-47e5-93e0-a5076f492960",
   "metadata": {},
   "outputs": [
    {
     "name": "stdout",
     "output_type": "stream",
     "text": [
      "    Continent             Country\n",
      "0        Asia         Afghanistan\n",
      "1      Europe             Albania\n",
      "2      Africa             Algeria\n",
      "3      Europe             Andorra\n",
      "4      Africa              Angola\n",
      "..        ...                 ...\n",
      "211      Asia             Vietnam\n",
      "212      Asia  West Bank and Gaza\n",
      "213      Asia               Yemen\n",
      "214    Africa              Zambia\n",
      "215    Africa            Zimbabwe\n",
      "\n",
      "[216 rows x 2 columns]\n",
      "          Country  Year  GDP_Per_Capita\n",
      "0     Afghanistan  2021     1517.016266\n",
      "1     Afghanistan  2020     1968.341002\n",
      "2     Afghanistan  2019     2079.921861\n",
      "3     Afghanistan  2018     2060.698973\n",
      "4     Afghanistan  2017     2096.093111\n",
      "...           ...   ...             ...\n",
      "7657     Zimbabwe  1994     2670.106615\n",
      "7658     Zimbabwe  1993     2458.783255\n",
      "7659     Zimbabwe  1992     2468.278257\n",
      "7660     Zimbabwe  1991     2781.787843\n",
      "7661     Zimbabwe  1990     2704.757299\n",
      "\n",
      "[7662 rows x 3 columns]\n"
     ]
    }
   ],
   "source": [
    "continents = pd.read_csv('continents.csv')\n",
    "print(continents)\n",
    "print(gdp_df)\n"
   ]
  },
  {
   "cell_type": "markdown",
   "id": "a3e5d973-6f43-4ded-8bd0-58ab26259e45",
   "metadata": {},
   "source": [
    "18. Merge gdp_df and continents. Keep only the countries that appear in both data frames. Save the result back to gdp_df."
   ]
  },
  {
   "cell_type": "code",
   "execution_count": 62,
   "id": "8c0065f4-bb0a-4c22-b33e-c41a21d790b9",
   "metadata": {},
   "outputs": [],
   "source": [
    "gdp_df = pd.merge(left = gdp_df, right = continents, on = \"Country\")"
   ]
  },
  {
   "cell_type": "markdown",
   "id": "a1cbf24a-5486-46c7-890f-3710e1f0828a",
   "metadata": {},
   "source": [
    "19. Determine the number of countries per continent. Create a bar chart showing this."
   ]
  },
  {
   "cell_type": "code",
   "execution_count": 64,
   "id": "0c58b9fd-fdd2-41a0-99db-387370a375f0",
   "metadata": {},
   "outputs": [],
   "source": [
    "gdp_count = gdp_df.groupby(\"Continent\")[\"Country\"].count().drop_duplicates()"
   ]
  },
  {
   "cell_type": "code",
   "execution_count": 65,
   "id": "7009f78b-8100-4d39-bd21-b1a6bdafe349",
   "metadata": {},
   "outputs": [
    {
     "data": {
      "text/plain": [
       "(array([0, 1, 2, 3, 4, 5]),\n",
       " [Text(0, 0, 'Africa'),\n",
       "  Text(1, 0, 'Asia'),\n",
       "  Text(2, 0, 'Europe'),\n",
       "  Text(3, 0, 'North America'),\n",
       "  Text(4, 0, 'Oceania'),\n",
       "  Text(5, 0, 'South America')])"
      ]
     },
     "execution_count": 65,
     "metadata": {},
     "output_type": "execute_result"
    },
    {
     "data": {
      "image/png": "[encoded data removed]",
      "text/plain": [
       "<Figure size 640x480 with 1 Axes>"
      ]
     },
     "metadata": {},
     "output_type": "display_data"
    }
   ],
   "source": [
    "gdp_count.plot.bar(ylabel=\"number of countries\", title=\"The Number of Countries per Continent\")\n",
    "plt.xticks(rotation=45)"
   ]
  },
  {
   "cell_type": "markdown",
   "id": "09139e1f-169a-4c55-879a-325f4b33d7c1",
   "metadata": {},
   "source": [
    "20. Create a seaborn boxplot showing GDP per capita in 2021 split out by continent. What do you notice?"
   ]
  },
  {
   "cell_type": "code",
   "execution_count": 67,
   "id": "49bc8469-1dfe-496b-a7be-574cc48fffdb",
   "metadata": {},
   "outputs": [
    {
     "data": {
      "text/plain": [
       "([0, 1, 2, 3, 4, 5],\n",
       " [Text(0, 0, 'Asia'),\n",
       "  Text(1, 0, 'Europe'),\n",
       "  Text(2, 0, 'Africa'),\n",
       "  Text(3, 0, 'North America'),\n",
       "  Text(4, 0, 'South America'),\n",
       "  Text(5, 0, 'Oceania')])"
      ]
     },
     "execution_count": 67,
     "metadata": {},
     "output_type": "execute_result"
    },
    {
     "data": {
      "image/png": "[encoded data removed]",
      "text/plain": [
       "<Figure size 640x480 with 1 Axes>"
      ]
     },
     "metadata": {},
     "output_type": "display_data"
    }
   ],
   "source": [
    "gdp_df_2021 = gdp_df.loc[(gdp_df[\"Year\"] == 2021), \"GDP_Per_Capita\"]\n",
    "sns.boxplot(x=\"Continent\", y=\"GDP_Per_Capita\", data=gdp_df)\n",
    "plt.title(\"GDP per Capita in 2021 by Continent\")\n",
    "plt.xticks(rotation=45)\n",
    "\n",
    "\n"
   ]
  },
  {
   "cell_type": "markdown",
   "id": "fe6580df-4728-4809-badf-c3d02f587e25",
   "metadata": {},
   "source": [
    "21. Download the full csv containing Life expectancy at birth, total (years) from https://data.worldbank.org/indicator/SP.DYN.LE00.IN?name_desc=false. Read this data into a DataFrame named life_expectancy. Note: When reading this dataset it, you may encounter an error. Modify your read_csv call to correct this without modifying the original csv file."
   ]
  },
  {
   "cell_type": "code",
   "execution_count": 69,
   "id": "5c617789-2fe7-4023-81c5-87c0af8367ea",
   "metadata": {},
   "outputs": [],
   "source": [
    "life_expectancy = pd.read_csv(\"API_SP.DYN.LE00.IN_DS2_en_csv_v2_31632.csv\", header=[2])"
   ]
  },
  {
   "cell_type": "markdown",
   "id": "d6e8777d-1c8a-44f7-8736-9bba1e1e3485",
   "metadata": {},
   "source": [
    "22. Drop the Country Code, Indicator Name, and Indicator Code columns. Then use .melt() to convert your data from wide to long. That is, instead of having one row per country and multiple colums per year, we want to have multiple rows per country and a single column for year. After melting, rename the columns to Country, Year, and Life_Expectancy."
   ]
  },
  {
   "cell_type": "code",
   "execution_count": 71,
   "id": "f2df33d8-bb71-4fd9-8cfd-721932fc1850",
   "metadata": {},
   "outputs": [
    {
     "data": {
      "text/html": [
       "<div>\n",
       "<style scoped>\n",
       "    .dataframe tbody tr th:only-of-type {\n",
       "        vertical-align: middle;\n",
       "    }\n",
       "\n",
       "    .dataframe tbody tr th {\n",
       "        vertical-align: top;\n",
       "    }\n",
       "\n",
       "    .dataframe thead th {\n",
       "        text-align: right;\n",
       "    }\n",
       "</style>\n",
       "<table border=\"1\" class=\"dataframe\">\n",
       "  <thead>\n",
       "    <tr style=\"text-align: right;\">\n",
       "      <th></th>\n",
       "      <th>Country Name</th>\n",
       "      <th>1960</th>\n",
       "      <th>1961</th>\n",
       "      <th>1962</th>\n",
       "      <th>1963</th>\n",
       "      <th>1964</th>\n",
       "      <th>1965</th>\n",
       "      <th>1966</th>\n",
       "      <th>1967</th>\n",
       "      <th>1968</th>\n",
       "      <th>...</th>\n",
       "      <th>2014</th>\n",
       "      <th>2015</th>\n",
       "      <th>2016</th>\n",
       "      <th>2017</th>\n",
       "      <th>2018</th>\n",
       "      <th>2019</th>\n",
       "      <th>2020</th>\n",
       "      <th>2021</th>\n",
       "      <th>2022</th>\n",
       "      <th>2023</th>\n",
       "    </tr>\n",
       "  </thead>\n",
       "  <tbody>\n",
       "  </tbody>\n",
       "</table>\n",
       "<p>0 rows × 65 columns</p>\n",
       "</div>"
      ],
      "text/plain": [
       "Empty DataFrame\n",
       "Columns: [Country Name, 1960, 1961, 1962, 1963, 1964, 1965, 1966, 1967, 1968, 1969, 1970, 1971, 1972, 1973, 1974, 1975, 1976, 1977, 1978, 1979, 1980, 1981, 1982, 1983, 1984, 1985, 1986, 1987, 1988, 1989, 1990, 1991, 1992, 1993, 1994, 1995, 1996, 1997, 1998, 1999, 2000, 2001, 2002, 2003, 2004, 2005, 2006, 2007, 2008, 2009, 2010, 2011, 2012, 2013, 2014, 2015, 2016, 2017, 2018, 2019, 2020, 2021, 2022, 2023]\n",
       "Index: []\n",
       "\n",
       "[0 rows x 65 columns]"
      ]
     },
     "execution_count": 71,
     "metadata": {},
     "output_type": "execute_result"
    }
   ],
   "source": [
    "life_expectancy.drop(columns=[\"Country Code\", \"Indicator Name\", \"Indicator Code\", \"Unnamed: 68\"], inplace=True)\n",
    "life_expectancy.dropna()"
   ]
  },
  {
   "cell_type": "markdown",
   "id": "ef651e70-5a03-4168-b9e8-da7f1482f757",
   "metadata": {},
   "source": [
    " Transform data to show multiple rows per country and a single column for year. rename the columns to Country, Year, and Life_Expectancy"
   ]
  },
  {
   "cell_type": "code",
   "execution_count": 73,
   "id": "1cd788af-62c0-4af9-9a1d-35abf5ca65da",
   "metadata": {},
   "outputs": [
    {
     "name": "stdout",
     "output_type": "stream",
     "text": [
      "                           Country  Year  Life_Expectancy\n",
      "0                            Aruba  1960        64.152000\n",
      "1      Africa Eastern and Southern  1960        44.085552\n",
      "2                      Afghanistan  1960        32.535000\n",
      "3       Africa Western and Central  1960        37.845152\n",
      "4                           Angola  1960        38.211000\n",
      "...                            ...   ...              ...\n",
      "17019                       Kosovo  2023              NaN\n",
      "17020                  Yemen, Rep.  2023              NaN\n",
      "17021                 South Africa  2023              NaN\n",
      "17022                       Zambia  2023              NaN\n",
      "17023                     Zimbabwe  2023              NaN\n",
      "\n",
      "[17024 rows x 3 columns]\n"
     ]
    }
   ],
   "source": [
    "life_expectancy = life_expectancy.melt(id_vars = 'Country Name', value_vars = life_expectancy[1:], var_name = 'Year', value_name = 'Life_Expectancy')\n",
    "life_expectancy.rename(columns = {'Country Name':'Country'}, inplace=True)\n",
    "print(life_expectancy)"
   ]
  },
  {
   "cell_type": "markdown",
   "id": "61460928-7c39-4944-b173-0a01379b8804",
   "metadata": {},
   "source": [
    "23. What was the first country with a life expectancy to exceed 80?"
   ]
  },
  {
   "cell_type": "code",
   "execution_count": 75,
   "id": "36d3f0a4-57ec-41aa-b859-6fede3a9f0aa",
   "metadata": {},
   "outputs": [
    {
     "data": {
      "text/html": [
       "<div>\n",
       "<style scoped>\n",
       "    .dataframe tbody tr th:only-of-type {\n",
       "        vertical-align: middle;\n",
       "    }\n",
       "\n",
       "    .dataframe tbody tr th {\n",
       "        vertical-align: top;\n",
       "    }\n",
       "\n",
       "    .dataframe thead th {\n",
       "        text-align: right;\n",
       "    }\n",
       "</style>\n",
       "<table border=\"1\" class=\"dataframe\">\n",
       "  <thead>\n",
       "    <tr style=\"text-align: right;\">\n",
       "      <th></th>\n",
       "      <th>Country</th>\n",
       "      <th>Year</th>\n",
       "      <th>Life_Expectancy</th>\n",
       "    </tr>\n",
       "  </thead>\n",
       "  <tbody>\n",
       "    <tr>\n",
       "      <th>9695</th>\n",
       "      <td>Japan</td>\n",
       "      <td>1996</td>\n",
       "      <td>80.219756</td>\n",
       "    </tr>\n",
       "    <tr>\n",
       "      <th>9926</th>\n",
       "      <td>Gibraltar</td>\n",
       "      <td>1997</td>\n",
       "      <td>80.343000</td>\n",
       "    </tr>\n",
       "    <tr>\n",
       "      <th>9938</th>\n",
       "      <td>Hong Kong SAR, China</td>\n",
       "      <td>1997</td>\n",
       "      <td>80.112195</td>\n",
       "    </tr>\n",
       "    <tr>\n",
       "      <th>9961</th>\n",
       "      <td>Japan</td>\n",
       "      <td>1997</td>\n",
       "      <td>80.424146</td>\n",
       "    </tr>\n",
       "    <tr>\n",
       "      <th>9988</th>\n",
       "      <td>Macao SAR, China</td>\n",
       "      <td>1997</td>\n",
       "      <td>80.162000</td>\n",
       "    </tr>\n",
       "  </tbody>\n",
       "</table>\n",
       "</div>"
      ],
      "text/plain": [
       "                   Country  Year  Life_Expectancy\n",
       "9695                 Japan  1996        80.219756\n",
       "9926             Gibraltar  1997        80.343000\n",
       "9938  Hong Kong SAR, China  1997        80.112195\n",
       "9961                 Japan  1997        80.424146\n",
       "9988      Macao SAR, China  1997        80.162000"
      ]
     },
     "execution_count": 75,
     "metadata": {},
     "output_type": "execute_result"
    }
   ],
   "source": [
    "life_expectancy.loc[life_expectancy['Life_Expectancy'] >= 80].head()"
   ]
  },
  {
   "cell_type": "markdown",
   "id": "a8b6e019-f341-444d-a05e-f3d4b278a558",
   "metadata": {},
   "source": [
    "Japan achieved a life expectancy of 80 in 1996, making it the the first country in the dataset to surpass this milestone"
   ]
  },
  {
   "cell_type": "markdown",
   "id": "ee2149ec-a546-4f8d-8f6f-670b68e714f2",
   "metadata": {},
   "source": [
    "24. Merge gdp_df and life_expectancy, keeping all countries and years that appear in both DataFrames. "
   ]
  },
  {
   "cell_type": "code",
   "execution_count": 78,
   "id": "74e88774-c61c-4899-bb9d-cb8044685eee",
   "metadata": {},
   "outputs": [],
   "source": [
    "life_expectancy = life_expectancy.astype({\"Year\": int})\n",
    "gdp_le = pd.merge(left = gdp_df, right = life_expectancy, on = [\"Country\", \"Year\"])\n"
   ]
  },
  {
   "cell_type": "markdown",
   "id": "c5206d08-0790-4cac-889c-11b6479474bd",
   "metadata": {},
   "source": [
    "Look at the first five rows of your new data frame to confirm it merged correctly"
   ]
  },
  {
   "cell_type": "code",
   "execution_count": 80,
   "id": "f20d909e-3e45-4e04-b332-5e90c12b59bf",
   "metadata": {},
   "outputs": [
    {
     "data": {
      "text/html": [
       "<div>\n",
       "<style scoped>\n",
       "    .dataframe tbody tr th:only-of-type {\n",
       "        vertical-align: middle;\n",
       "    }\n",
       "\n",
       "    .dataframe tbody tr th {\n",
       "        vertical-align: top;\n",
       "    }\n",
       "\n",
       "    .dataframe thead th {\n",
       "        text-align: right;\n",
       "    }\n",
       "</style>\n",
       "<table border=\"1\" class=\"dataframe\">\n",
       "  <thead>\n",
       "    <tr style=\"text-align: right;\">\n",
       "      <th></th>\n",
       "      <th>Country</th>\n",
       "      <th>Year</th>\n",
       "      <th>GDP_Per_Capita</th>\n",
       "      <th>Continent</th>\n",
       "      <th>Life_Expectancy</th>\n",
       "    </tr>\n",
       "  </thead>\n",
       "  <tbody>\n",
       "    <tr>\n",
       "      <th>0</th>\n",
       "      <td>Afghanistan</td>\n",
       "      <td>2021</td>\n",
       "      <td>1517.016266</td>\n",
       "      <td>Asia</td>\n",
       "      <td>61.982</td>\n",
       "    </tr>\n",
       "    <tr>\n",
       "      <th>1</th>\n",
       "      <td>Afghanistan</td>\n",
       "      <td>2020</td>\n",
       "      <td>1968.341002</td>\n",
       "      <td>Asia</td>\n",
       "      <td>62.575</td>\n",
       "    </tr>\n",
       "    <tr>\n",
       "      <th>2</th>\n",
       "      <td>Afghanistan</td>\n",
       "      <td>2019</td>\n",
       "      <td>2079.921861</td>\n",
       "      <td>Asia</td>\n",
       "      <td>63.565</td>\n",
       "    </tr>\n",
       "    <tr>\n",
       "      <th>3</th>\n",
       "      <td>Afghanistan</td>\n",
       "      <td>2018</td>\n",
       "      <td>2060.698973</td>\n",
       "      <td>Asia</td>\n",
       "      <td>63.081</td>\n",
       "    </tr>\n",
       "    <tr>\n",
       "      <th>4</th>\n",
       "      <td>Afghanistan</td>\n",
       "      <td>2017</td>\n",
       "      <td>2096.093111</td>\n",
       "      <td>Asia</td>\n",
       "      <td>63.016</td>\n",
       "    </tr>\n",
       "  </tbody>\n",
       "</table>\n",
       "</div>"
      ],
      "text/plain": [
       "       Country  Year  GDP_Per_Capita Continent  Life_Expectancy\n",
       "0  Afghanistan  2021     1517.016266      Asia           61.982\n",
       "1  Afghanistan  2020     1968.341002      Asia           62.575\n",
       "2  Afghanistan  2019     2079.921861      Asia           63.565\n",
       "3  Afghanistan  2018     2060.698973      Asia           63.081\n",
       "4  Afghanistan  2017     2096.093111      Asia           63.016"
      ]
     },
     "execution_count": 80,
     "metadata": {},
     "output_type": "execute_result"
    }
   ],
   "source": [
    "gdp_le.head(5)\n"
   ]
  },
  {
   "cell_type": "markdown",
   "id": "e5f40357-86be-426d-8c35-31c9a803e837",
   "metadata": {},
   "source": [
    "check the last five rows to make sure the data is clean and as expected."
   ]
  },
  {
   "cell_type": "code",
   "execution_count": 82,
   "id": "116fda4a-72af-4845-8b9a-10457048ef85",
   "metadata": {},
   "outputs": [
    {
     "data": {
      "text/html": [
       "<div>\n",
       "<style scoped>\n",
       "    .dataframe tbody tr th:only-of-type {\n",
       "        vertical-align: middle;\n",
       "    }\n",
       "\n",
       "    .dataframe tbody tr th {\n",
       "        vertical-align: top;\n",
       "    }\n",
       "\n",
       "    .dataframe thead th {\n",
       "        text-align: right;\n",
       "    }\n",
       "</style>\n",
       "<table border=\"1\" class=\"dataframe\">\n",
       "  <thead>\n",
       "    <tr style=\"text-align: right;\">\n",
       "      <th></th>\n",
       "      <th>Country</th>\n",
       "      <th>Year</th>\n",
       "      <th>GDP_Per_Capita</th>\n",
       "      <th>Continent</th>\n",
       "      <th>Life_Expectancy</th>\n",
       "    </tr>\n",
       "  </thead>\n",
       "  <tbody>\n",
       "    <tr>\n",
       "      <th>5558</th>\n",
       "      <td>Zimbabwe</td>\n",
       "      <td>1994</td>\n",
       "      <td>2670.106615</td>\n",
       "      <td>Africa</td>\n",
       "      <td>52.588</td>\n",
       "    </tr>\n",
       "    <tr>\n",
       "      <th>5559</th>\n",
       "      <td>Zimbabwe</td>\n",
       "      <td>1993</td>\n",
       "      <td>2458.783255</td>\n",
       "      <td>Africa</td>\n",
       "      <td>54.426</td>\n",
       "    </tr>\n",
       "    <tr>\n",
       "      <th>5560</th>\n",
       "      <td>Zimbabwe</td>\n",
       "      <td>1992</td>\n",
       "      <td>2468.278257</td>\n",
       "      <td>Africa</td>\n",
       "      <td>56.435</td>\n",
       "    </tr>\n",
       "    <tr>\n",
       "      <th>5561</th>\n",
       "      <td>Zimbabwe</td>\n",
       "      <td>1991</td>\n",
       "      <td>2781.787843</td>\n",
       "      <td>Africa</td>\n",
       "      <td>58.091</td>\n",
       "    </tr>\n",
       "    <tr>\n",
       "      <th>5562</th>\n",
       "      <td>Zimbabwe</td>\n",
       "      <td>1990</td>\n",
       "      <td>2704.757299</td>\n",
       "      <td>Africa</td>\n",
       "      <td>59.426</td>\n",
       "    </tr>\n",
       "  </tbody>\n",
       "</table>\n",
       "</div>"
      ],
      "text/plain": [
       "       Country  Year  GDP_Per_Capita Continent  Life_Expectancy\n",
       "5558  Zimbabwe  1994     2670.106615    Africa           52.588\n",
       "5559  Zimbabwe  1993     2458.783255    Africa           54.426\n",
       "5560  Zimbabwe  1992     2468.278257    Africa           56.435\n",
       "5561  Zimbabwe  1991     2781.787843    Africa           58.091\n",
       "5562  Zimbabwe  1990     2704.757299    Africa           59.426"
      ]
     },
     "execution_count": 82,
     "metadata": {},
     "output_type": "execute_result"
    }
   ],
   "source": [
    "gdp_le.tail(5)"
   ]
  },
  {
   "cell_type": "markdown",
   "id": "932693d1-fcee-4572-be19-9c09de057578",
   "metadata": {},
   "source": [
    "25. Create a new DataFrame, named gdp_le_2021 by extracting data for the year 2021 from gdp_le. How many countries have a life expectancy of at least 80 in 2021?"
   ]
  },
  {
   "cell_type": "code",
   "execution_count": 84,
   "id": "837f3190-4ff9-4510-83f5-7753ef5984b0",
   "metadata": {},
   "outputs": [
    {
     "data": {
      "text/plain": [
       "31"
      ]
     },
     "execution_count": 84,
     "metadata": {},
     "output_type": "execute_result"
    }
   ],
   "source": [
    "gdp_le_2021 = gdp_le.loc[gdp_le[\"Year\"] == 2021]\n",
    "gdp_le_2021.loc[gdp_le_2021[\"Life_Expectancy\"] >= 80][\"Country\"].count()\n"
   ]
  },
  {
   "cell_type": "markdown",
   "id": "ba734e9b-13ec-44bf-8832-07626ee417df",
   "metadata": {},
   "source": [
    "In 2021, thirty one countries have a life expectancy of at least 80."
   ]
  },
  {
   "cell_type": "markdown",
   "id": "52de536a-63f4-48dc-bac1-519b5f82223d",
   "metadata": {},
   "source": [
    "26. Find the countries that had the top 3 largest GDP per capita figures for 2021.\n",
    "    using nlargest() with arguments to select 3 countries with the highest number from column named GDP_Per_Capita"
   ]
  },
  {
   "cell_type": "code",
   "execution_count": 87,
   "id": "0a5458f5-420e-4cf5-bae9-aa1b1b9a09a0",
   "metadata": {},
   "outputs": [
    {
     "name": "stdout",
     "output_type": "stream",
     "text": [
      "         Country  Year  GDP_Per_Capita Continent  Life_Expectancy\n",
      "2871  Luxembourg  2021   115683.493708    Europe        82.597561\n",
      "4423   Singapore  2021   107741.118436      Asia        83.092683\n",
      "2299     Ireland  2021   102785.490239    Europe        82.353659\n"
     ]
    }
   ],
   "source": [
    "largest_GDP_Per_Capita_countries = gdp_le_2021.nlargest(3, \"GDP_Per_Capita\")\n",
    "print(largest_GDP_Per_Capita_countries)"
   ]
  },
  {
   "cell_type": "markdown",
   "id": "4a133891-6e7a-4a4f-b4f8-eb1d91159ffa",
   "metadata": {},
   "source": [
    "Create a seaborn FacetGrid showing the change in life expectancy over time for these three countries. Each individual figure in the facet grid will represent a single country."
   ]
  },
  {
   "cell_type": "code",
   "execution_count": 89,
   "id": "0afb7fc9-bb40-4432-817f-e7cefbd94409",
   "metadata": {},
   "outputs": [],
   "source": [
    "gdp_three_countries = gdp_le[(gdp_le[\"Country\"] == \"Luxembourg\") | (gdp_le[\"Country\"] == \"Singapore\")\n",
    "| (gdp_le[\"Country\"] == \"Ireland\")]\n"
   ]
  },
  {
   "cell_type": "code",
   "execution_count": 90,
   "id": "4f82ed2f-30e8-462d-9782-83108781076a",
   "metadata": {},
   "outputs": [
    {
     "data": {
      "image/png": "[encoded data removed]",
      "text/plain": [
       "<Figure size 900x300 with 3 Axes>"
      ]
     },
     "metadata": {},
     "output_type": "display_data"
    }
   ],
   "source": [
    "graph = sns.FacetGrid(gdp_three_countries, col = \"Country\")\n",
    "graph.map(plt.scatter, \"Year\", \"Life_Expectancy\")\n",
    "plt.show()"
   ]
  },
  {
   "cell_type": "markdown",
   "id": "32146f96-eef1-4ef8-80c1-395c1f09f0fe",
   "metadata": {},
   "source": [
    "27. Create a scatter plot of Life Expectancy vs GDP per Capita for the year 2021."
   ]
  },
  {
   "cell_type": "code",
   "execution_count": 92,
   "id": "206c1874-35ad-4c90-8486-995cfa250442",
   "metadata": {},
   "outputs": [
    {
     "data": {
      "image/png": "[encoded data removed]",
      "text/plain": [
       "<Figure size 640x480 with 1 Axes>"
      ]
     },
     "metadata": {},
     "output_type": "display_data"
    }
   ],
   "source": [
    "x = gdp_le_2021['GDP_Per_Capita']\n",
    "y = gdp_le_2021['Life_Expectancy']\n",
    "plt.scatter(x, y, c = \"Blue\")\n",
    "plt.xlabel ('GDP Per Capita')\n",
    "plt.ylabel ('Life Excectancy')\n",
    "plt.title ('Life Expectancy vs GDP per Capita for the year 2021')\n",
    "plt.show()"
   ]
  },
  {
   "cell_type": "markdown",
   "id": "2d4a5272-666d-4768-8680-85e48198d473",
   "metadata": {},
   "source": [
    "The plot indicates a strong positive correlation between GDP per capita and life expectancy when countries have GDP per capita from 0 to 60,000. As the GDP per capita increaes, the life expectancy also trends to increase. However, this data set will not provide a correct prediction of life expectancy in a country with GDP per capita higher than 60,000."
   ]
  },
  {
   "cell_type": "markdown",
   "id": "151e86e3-7424-4912-a2e7-7a80c885d193",
   "metadata": {},
   "source": [
    "28. Find the correlation between Life Expectancy and GDP per Capita for the year 2021. What is the meaning of this number?"
   ]
  },
  {
   "cell_type": "code",
   "execution_count": 95,
   "id": "96f4d47c-4b9d-4907-a627-9b582e3722a1",
   "metadata": {},
   "outputs": [
    {
     "name": "stdout",
     "output_type": "stream",
     "text": [
      "0.7450812403297986\n"
     ]
    }
   ],
   "source": [
    "correlation = gdp_le_2021['Life_Expectancy'].corr(gdp_le_2021['GDP_Per_Capita'])\n",
    "print(correlation)"
   ]
  },
  {
   "cell_type": "markdown",
   "id": "43852ab7-ab02-42c1-af86-38146cfacd4d",
   "metadata": {},
   "source": [
    "Perfect strong positive relationships between two variables produce correlation coefficients as +1 whereas, strong negative relationship will produce the correlation coefficients as -1. In this correlation analysis, the correlation coefficient is 0.745 indicating a strong positive association between the selected two variables. "
   ]
  },
  {
   "cell_type": "markdown",
   "id": "b4d65a39-94ab-4aba-aa82-e10b95835834",
   "metadata": {},
   "source": [
    "29.\tAdd a column to gdp_le_2021 and calculate the logarithm of GDP per capita. Find the correlation between the log of GDP per capita and life expectancy. How does this compare to the calculation in the previous part? Look at a scatter plot to see if the result of this calculation makes sense."
   ]
  },
  {
   "cell_type": "code",
   "execution_count": 98,
   "id": "5f10e3c7-a594-4de9-ac17-29b72673dfc2",
   "metadata": {},
   "outputs": [
    {
     "name": "stderr",
     "output_type": "stream",
     "text": [
      "C:\\Users\\vetdd\\AppData\\Local\\Temp\\ipykernel_15808\\3697715244.py:1: SettingWithCopyWarning: \n",
      "A value is trying to be set on a copy of a slice from a DataFrame.\n",
      "Try using .loc[row_indexer,col_indexer] = value instead\n",
      "\n",
      "See the caveats in the documentation: https://pandas.pydata.org/pandas-docs/stable/user_guide/indexing.html#returning-a-view-versus-a-copy\n",
      "  gdp_le_2021['log_GDP'] = np.log(gdp_le_2021['GDP_Per_Capita'])\n"
     ]
    }
   ],
   "source": [
    "gdp_le_2021['log_GDP'] = np.log(gdp_le_2021['GDP_Per_Capita'])\n"
   ]
  },
  {
   "cell_type": "code",
   "execution_count": 99,
   "id": "8e021c33-3c14-48da-916f-80f239a75d21",
   "metadata": {},
   "outputs": [
    {
     "name": "stdout",
     "output_type": "stream",
     "text": [
      "0.8465749797261866\n"
     ]
    }
   ],
   "source": [
    "correlation2 = gdp_le_2021['Life_Expectancy'].corr(gdp_le_2021['log_GDP'])\n",
    "print(correlation2)"
   ]
  },
  {
   "cell_type": "markdown",
   "id": "4e582ca3-173d-42f2-a364-c775ec4c74a2",
   "metadata": {},
   "source": [
    "create a scatter plot showing Life Expectancy vs log(GDP per Capita) for the year 2021"
   ]
  },
  {
   "cell_type": "code",
   "execution_count": 101,
   "id": "ef0d1f58-5beb-4162-9ff4-0fc870eb0053",
   "metadata": {},
   "outputs": [
    {
     "data": {
      "image/png": "[encoded data removed]",
      "text/plain": [
       "<Figure size 640x480 with 1 Axes>"
      ]
     },
     "metadata": {},
     "output_type": "display_data"
    }
   ],
   "source": [
    "x = gdp_le_2021['log_GDP']\n",
    "y = gdp_le_2021['Life_Expectancy']\n",
    "plt.scatter(x, y, c = \"Blue\")\n",
    "plt.xlabel ('log(GDP Per Capita)')\n",
    "plt.ylabel ('Life Excectancy')\n",
    "plt.title ('Life Expectancy vs log(GDP per Capita) for the year 2021')\n",
    "plt.show()"
   ]
  },
  {
   "cell_type": "markdown",
   "id": "da34f17b-cbd3-4c90-821e-4f404391e6ab",
   "metadata": {},
   "source": [
    "Appying Log() to a data set will transform a skewed data to more closely the normal distribution that can increase the correlation number because more residues will located closer to a fitted line."
   ]
  }
 ],
 "metadata": {
  "kernelspec": {
   "display_name": "Python 3 (ipykernel)",
   "language": "python",
   "name": "python3"
  },
  "language_info": {
   "codemirror_mode": {
    "name": "ipython",
    "version": 3
   },
   "file_extension": ".py",
   "mimetype": "text/x-python",
   "name": "python",
   "nbconvert_exporter": "python",
   "pygments_lexer": "ipython3",
   "version": "3.12.4"
  }
 },
 "nbformat": 4,
 "nbformat_minor": 5
}
